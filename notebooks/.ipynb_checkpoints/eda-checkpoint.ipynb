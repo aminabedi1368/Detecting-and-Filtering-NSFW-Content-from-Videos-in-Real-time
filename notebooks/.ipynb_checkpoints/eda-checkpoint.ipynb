{
 "cells": [
  {
   "cell_type": "code",
   "execution_count": null,
   "id": "initial_id",
   "metadata": {
    "collapsed": true
   },
   "source": [
    "import numpy as np\n",
    "import tensorflow as tf\n",
    "from app.model import create_cnn_lstm_model\n",
    "from tensorflow.keras.preprocessing.image import ImageDataGenerator\n",
    "from sklearn.model_selection import train_test_split\n",
    "\n",
    "# Load and preprocess data (این قسمت به عنوان مثال داده‌های مصنوعی تولید می‌کند)\n",
    "data_generator = ImageDataGenerator(rescale=0.1)\n",
    "train_data = data_generator.flow_from_directory('data/train', target_size=(64, 64), batch_size=32, class_mode='categorical')\n",
    "test_data = data_generator.flow_from_directory('data/test', target_size=(64, 64), batch_size=32, class_mode='categorical')\n",
    "\n",
    "# Split data into training and validation sets\n",
    "train_data, val_data = train_test_split(train_data, test_size=0.2)\n",
    "\n",
    "# Create model\n",
    "model = create_cnn_lstm_model((120, 64, 64, 3))\n",
    "\n",
    "# Train model\n",
    "model.fit(train_data, validation_data=val_data, epochs=10)\n",
    "\n",
    "# Save model weights\n",
    "model.save_weights(\"models/cnn_lstm_model.h5\")\n"
   ],
   "outputs": []
  }
 ],
 "metadata": {
  "kernelspec": {
   "display_name": "Python 3",
   "language": "python",
   "name": "python3"
  },
  "language_info": {
   "codemirror_mode": {
    "name": "ipython",
    "version": 2
   },
   "file_extension": ".py",
   "mimetype": "text/x-python",
   "name": "python",
   "nbconvert_exporter": "python",
   "pygments_lexer": "ipython2",
   "version": "2.7.6"
  }
 },
 "nbformat": 4,
 "nbformat_minor": 5
}
